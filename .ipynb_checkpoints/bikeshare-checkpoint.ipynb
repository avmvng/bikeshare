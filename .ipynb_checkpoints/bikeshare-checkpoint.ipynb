{
 "cells": [
  {
   "cell_type": "code",
   "execution_count": 87,
   "id": "f429eff4-7e20-47e5-bd34-573616b2f727",
   "metadata": {},
   "outputs": [],
   "source": [
    "import pandas as pd\n",
    "import numpy as np\n",
    "import geopandas as gpd\n",
    "import geopy\n",
    "import geocoder\n",
    "from geopy.geocoders import Nominatim\n",
    "from geopy.extra.rate_limiter import RateLimiter\n",
    "from shapely.geometry import Point\n",
    "import seaborn as sns\n",
    "import matplotlib.pyplot as plt\n",
    "%matplotlib inline\n",
    "from matplotlib import rc\n",
    "rc('animation', html='jshtml')\n",
    "from IPython.display import HTML"
   ]
  },
  {
   "cell_type": "markdown",
   "id": "c0b75119-010f-49ab-8719-44aea70fce16",
   "metadata": {},
   "source": [
    "Congestion pricing in Manhattan is a little over four months old, yet the backlash from conservative media and the Trump administration has been brewing for way longer. In part, this is because congestion pricing _as a thing_ is entirely new to American society despite being the norm for many European cities. But it is also due to a lack of conclusive evidence of its effectiveness — granted there are no long-term benefits to speak of after only four months — which this story will (attempt to) provide. \n",
    "\n",
    "While priding mostly on its subway system, New York is also home to over 2,000 CitiBike stations. Citi Bike is New York City’s bike-sharing program, offering residents and visitors a sustainable way to travel around the city. Launched in 2013, it provides thousands of bikes at hundreds of docking stations located across Manhattan, Brooklyn, Queens, the Bronx, and Jersey City. Users can rent bikes for short trips, commuting, or leisure through a mobile app or at kiosks, paying per ride or with membership options.\n",
    "\n",
    "This story will compare CitiBike ridership in March 2024 (pre-congesion pricing) and March 2025 (roughly three months after). CitiBike public data contains __enormous__ datasets with information on __every single ride,__ which is why I recruited the `pandas` Python library to analyze it."
   ]
  },
  {
   "cell_type": "code",
   "execution_count": 88,
   "id": "6a07e33e-0c4c-4e17-99e3-577f6d15c944",
   "metadata": {},
   "outputs": [],
   "source": [
    "def load_data(filename):\n",
    "    df = pd.read_csv(filename, dtype={\"start_station_id\":\"object\", \"end_station_id\":\"object\"})\n",
    "    df = df.drop(columns=['start_station_id','end_station_id', 'start_station_name','end_station_name'])\n",
    "    df['started_at'] = pd.to_datetime(df['started_at'])\n",
    "    df['ended_at'] = pd.to_datetime(df['ended_at'])\n",
    "    df['rideable_type'] = df['rideable_type'].astype('category')\n",
    "    df['member_casual'] = df['member_casual'].astype('category')\n",
    "    df['start_hour'] = df['started_at'].dt.hour\n",
    "    df['end_hour'] = df['ended_at'].dt.hour\n",
    "    df['trip_duration'] = (df['ended_at'] - df['started_at']).dt.total_seconds() / 60\n",
    "\n",
    "    return df"
   ]
  },
  {
   "cell_type": "code",
   "execution_count": 89,
   "id": "7dd41911-7a9a-4ae5-9fa3-64d0a8fa8042",
   "metadata": {},
   "outputs": [],
   "source": [
    "def sjoin(df):\n",
    "    start_geometry = [Point(xy) for xy in zip(df[\"start_lng\"], df[\"start_lat\"])]\n",
    "    gdf_start = gpd.GeoDataFrame(df, geometry=start_geometry, crs=\"EPSG:4326\")\n",
    "\n",
    "    end_geometry = [Point(xy) for xy in zip(df[\"end_lng\"], df[\"end_lat\"])]\n",
    "    gdf_end = gpd.GeoDataFrame(df.copy(), geometry=end_geometry, crs=\"EPSG:4326\")\n",
    "\n",
    "    nhoods = gpd.read_file('nta2020.shp')\n",
    "    nhoods = nhoods.to_crs(epsg=4326)\n",
    "\n",
    "    # spatial join: START coordinates\n",
    "    gdf_start_joined = gpd.sjoin(gdf_start, nhoods[['geometry', 'ntaname']], how=\"left\", predicate='within')\n",
    "    gdf_start_joined = gdf_start_joined.rename(columns={'ntaname': 'start_neighborhood'})\n",
    "\n",
    "    # spatial join: END coordinates\n",
    "    gdf_end_joined = gpd.sjoin(gdf_end, nhoods[['geometry', 'ntaname']], how=\"left\", predicate='within')\n",
    "    gdf_end_joined = gdf_end_joined.rename(columns={'ntaname': 'end_neighborhood'})\n",
    "\n",
    "    # combine start and end info\n",
    "    df_withnhoods = df.copy()\n",
    "    df_withnhoods['start_neighborhood'] = gdf_start_joined['start_neighborhood']\n",
    "    df_withnhoods['end_neighborhood'] = gdf_end_joined['end_neighborhood']\n",
    "\n",
    "    return df_withnhoods"
   ]
  },
  {
   "cell_type": "code",
   "execution_count": 90,
   "id": "b6aebfad-385e-4e29-afa0-658598cc0ce8",
   "metadata": {},
   "outputs": [],
   "source": [
    "df25 = load_data('202503-citibike-tripdata.csv')\n",
    "df24 = load_data('202403-citibike-tripdata.csv')"
   ]
  },
  {
   "cell_type": "code",
   "execution_count": 91,
   "id": "5961cfc1-9fe6-4ea9-ab51-ce001ceb311d",
   "metadata": {},
   "outputs": [],
   "source": [
    "df25 = sjoin(df25)\n",
    "df24 = sjoin(df24)"
   ]
  },
  {
   "cell_type": "code",
   "execution_count": 92,
   "id": "9233d60e-695d-4a9f-bc62-2539b2d30156",
   "metadata": {},
   "outputs": [],
   "source": [
    "# all nhoods below 60th Street\n",
    "below60 = ['Chelsea-Hudson Yards',\n",
    "           'Chinatown-Two Bridges',\n",
    "           'East Midtown-Turtle Bay',\n",
    "           'East Village',\n",
    "           'Financial District-Battery Park City',\n",
    "           'Gramercy',\n",
    "           'Greenwich Village',\n",
    "           'West Village',\n",
    "           'Tribeca-Civic Center',\n",
    "           'The Battery-Governors Island-Ellis Island-Liberty Island',\n",
    "           'Stuyvesant Town-Peter Cooper Village',\n",
    "           'SoHo-Little Italy-Hudson Square',\n",
    "           'Murray Hill-Kips Bay',\n",
    "           'Midtown-Times Square',\n",
    "           'Midtown South-Flatiron-Union Square',\n",
    "           'Lower East Side',\n",
    "           \"Hell's Kitchen\"]\n",
    "\n",
    "# all nhoods in Brooklyn\n",
    "\n",
    "bk = [\n",
    "    \"Greenpoint\",\n",
    "    \"Williamsburg\",\n",
    "    \"South Williamsburg\",\n",
    "    \"East Williamsburg\",\n",
    "    \"Brooklyn Heights\",\n",
    "    \"Downtown Brooklyn-DUMBO-Boerum Hill\",\n",
    "    \"Fort Greene\",\n",
    "    \"Clinton Hill\",\n",
    "    \"Brooklyn Navy Yard\",\n",
    "    \"Bedford-Stuyvesant (West)\",\n",
    "    \"Bedford-Stuyvesant (East)\",\n",
    "    \"Bushwick (West)\",\n",
    "    \"Bushwick (East)\",\n",
    "    \"The Evergreens Cemetery\",\n",
    "    \"Cypress Hills\",\n",
    "    \"East New York (North)\",\n",
    "    \"East New York-New Lots\",\n",
    "    \"Spring Creek-Starrett City\",\n",
    "    \"East New York-City Line\",\n",
    "    \"Highland Park-Cypress Hills Cemeteries (South)\",\n",
    "    \"Carroll Gardens-Cobble Hill-Gowanus-Red Hook\",\n",
    "    \"Park Slope\",\n",
    "    \"Windsor Terrace-South Slope\",\n",
    "    \"Sunset Park (West)\",\n",
    "    \"Sunset Park (Central)\",\n",
    "    \"Green-Wood Cemetery\",\n",
    "    \"Prospect Heights\",\n",
    "    \"Crown Heights (North)\",\n",
    "    \"Lincoln Terrace Park\",\n",
    "    \"Crown Heights (South)\",\n",
    "    \"Prospect Lefferts Gardens-Wingate\",\n",
    "    \"Bay Ridge\",\n",
    "    \"Dyker Heights\",\n",
    "    \"Fort Hamilton\",\n",
    "    \"Dyker Beach Park\",\n",
    "    \"Bensonhurst\",\n",
    "    \"Bath Beach\",\n",
    "    \"Gravesend (West)\",\n",
    "    \"Sunset Park (East)-Borough Park (West)\",\n",
    "    \"Borough Park\",\n",
    "    \"Kensington\",\n",
    "    \"Mapleton-Midwood (West)\",\n",
    "    \"Gravesend (South)\",\n",
    "    \"Coney Island-Sea Gate\",\n",
    "    \"Brighton Beach\",\n",
    "    \"Calvert Vaux Park\",\n",
    "    \"Flatbush\",\n",
    "    \"Flatbush (West)-Ditmas Park-Parkville\",\n",
    "    \"Midwood\",\n",
    "    \"Gravesend (East)-Homecrest\",\n",
    "    \"Madison\"\n",
    "]"
   ]
  },
  {
   "cell_type": "code",
   "execution_count": 93,
   "id": "d2914755-8e8c-4ef3-9fdd-9954013298e2",
   "metadata": {},
   "outputs": [],
   "source": [
    "# this function returns only the rides from/to the congestion pricing zone to/from Brooklyn\n",
    "\n",
    "def count_by_boro(df):\n",
    "    df['start_boro'] = 'OTHER'\n",
    "    df['end_boro'] = 'OTHER'\n",
    "\n",
    "    # Assign 'BROOKLYN'\n",
    "    df.loc[df['start_neighborhood'].isin(bk), 'start_boro'] = 'BROOKLYN'\n",
    "    df.loc[df['end_neighborhood'].isin(bk), 'end_boro'] = 'BROOKLYN'\n",
    "\n",
    "    # Assign 'MANHATTAN BELOW 60ST'\n",
    "    df.loc[df['start_neighborhood'].isin(below60), 'start_boro'] = 'MANHATTAN BELOW 60TH ST'\n",
    "    df.loc[df['end_neighborhood'].isin(below60), 'end_boro'] = 'MANHATTAN BELOW 60TH ST'\n",
    "\n",
    "    filtered = df[\n",
    "    ((df['start_boro'] == 'MANHATTAN BELOW 60TH ST') & (df['end_boro'] == 'BROOKLYN')) |\n",
    "    ((df['start_boro'] == 'BROOKLYN') & (df['end_boro'] == 'MANHATTAN BELOW 60TH ST'))\n",
    "    ]\n",
    "\n",
    "    return filtered"
   ]
  },
  {
   "cell_type": "code",
   "execution_count": 94,
   "id": "ed6d5ae1-7fd9-4ad9-bcd4-4a2d7ad282e1",
   "metadata": {},
   "outputs": [],
   "source": [
    "def get_total_ride_count(df):\n",
    "    grouped = df.groupby(['start_boro', 'end_boro']).size().reset_index(name='ride_count')\n",
    "    return grouped\n",
    "def get_total_ride_count_by_hour(df):\n",
    "    grouped = df.groupby(['start_boro', 'end_boro', 'start_hour']).size().reset_index(name='ride_count')\n",
    "    return grouped"
   ]
  },
  {
   "cell_type": "code",
   "execution_count": 95,
   "id": "7778302c-f9bc-4418-a2ff-be83f56b64c8",
   "metadata": {},
   "outputs": [],
   "source": [
    "df25_filtered = count_by_boro(df25)\n",
    "df24_filtered = count_by_boro(df24)\n",
    "\n",
    "df25_grouped = get_total_ride_count(df25_filtered)\n",
    "df24_grouped = get_total_ride_count(df24_filtered)"
   ]
  },
  {
   "cell_type": "code",
   "execution_count": 96,
   "id": "dcd3a04f-e0a9-446b-8cf5-00280b300261",
   "metadata": {},
   "outputs": [],
   "source": [
    "def export(df, name):\n",
    "    df.to_csv(name, index=False)"
   ]
  },
  {
   "cell_type": "code",
   "execution_count": 98,
   "id": "cbc02985-8990-483d-a948-5d4baa4ea4a6",
   "metadata": {},
   "outputs": [],
   "source": [
    "export(df25_filtered, 'March 2025 FILTERED.csv')\n",
    "export(df24_filtered, 'March 2024 FILTERED.csv')\n",
    "export(df25_grouped, 'March 2025 GROUPED.csv')\n",
    "export(df24_grouped, 'March 2024 GROUPED.csv')"
   ]
  }
 ],
 "metadata": {
  "kernelspec": {
   "display_name": "Python 3 (ipykernel)",
   "language": "python",
   "name": "python3"
  },
  "language_info": {
   "codemirror_mode": {
    "name": "ipython",
    "version": 3
   },
   "file_extension": ".py",
   "mimetype": "text/x-python",
   "name": "python",
   "nbconvert_exporter": "python",
   "pygments_lexer": "ipython3",
   "version": "3.12.9"
  }
 },
 "nbformat": 4,
 "nbformat_minor": 5
}
